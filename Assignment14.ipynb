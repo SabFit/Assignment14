{
 "cells": [
  {
   "cell_type": "markdown",
   "id": "3c00b097-a4ae-4664-912b-e7f46367c496",
   "metadata": {},
   "source": [
    "1.What does RGBA stand for?"
   ]
  },
  {
   "cell_type": "markdown",
   "id": "888f21f8-036a-40df-b4cf-52e2075844b1",
   "metadata": {},
   "source": [
    "Ans . The rgba() function define colors using the Red-green-blue-alpha (RGBA) model. RGBA color values are an extension of RGB color values with an alpha channel.\n",
    "An RGBA value is a tuple of 4 integers, each ranging from 0 to 255. The four integers correspond\n",
    "to the amount of red, green, blue, and alpha (transparency) in the color"
   ]
  },
  {
   "cell_type": "markdown",
   "id": "c73c681d-21c5-45d6-8fee-7d6c917735a6",
   "metadata": {},
   "source": [
    "2. From the Pillow module, how do you get the RGBA value of any images?"
   ]
  },
  {
   "cell_type": "markdown",
   "id": "73f5a8dc-00ec-4dd6-8d3d-6e05cd84d192",
   "metadata": {},
   "source": [
    "Pillow offers the ImageColor. getcolor() function so you don't have to memorize RGBA values for the colors you want to use. This function takes a color name string as its first argument, and the string 'RGBA' as its second argument, and it returns an RGBA tuple.\n"
   ]
  },
  {
   "cell_type": "code",
   "execution_count": 2,
   "id": "b924ed6d-6563-454f-ad66-20917576d871",
   "metadata": {},
   "outputs": [
    {
     "data": {
      "text/plain": [
       "(255, 0, 0, 255)"
      ]
     },
     "execution_count": 2,
     "metadata": {},
     "output_type": "execute_result"
    }
   ],
   "source": [
    "from PIL import ImageColor\n",
    "ImageColor.getcolor('green', 'RGBA')\n",
    "ImageColor.getcolor('red', 'RGBA')\n"
   ]
  },
  {
   "cell_type": "markdown",
   "id": "4f909b5a-7054-41fb-8b62-0d9212605a39",
   "metadata": {},
   "source": [
    "3. What is a box tuple, and how does it work?"
   ]
  },
  {
   "cell_type": "markdown",
   "id": "42d809ed-433d-4d07-831c-c944e0248bfb",
   "metadata": {},
   "source": [
    "Ans. A box tuple is a tuple value of four integers: the left edge x-coordinate, the top edge y-coordinate, the width, and the height, respectively\n"
   ]
  },
  {
   "cell_type": "markdown",
   "id": "1beb6bf2-0077-4725-9b2f-a652afce862f",
   "metadata": {},
   "source": [
    "4. Use your image and load in notebook then, How can you find out the width and height of an Image object?"
   ]
  },
  {
   "cell_type": "code",
   "execution_count": 2,
   "id": "ad6b36cd-f75a-4d95-8e5c-ed396e7721b9",
   "metadata": {},
   "outputs": [
    {
     "name": "stdout",
     "output_type": "stream",
     "text": [
      "/bin/bash: line 1: [image.jpg]C:\\Users\\Sabari\\Pictures\\Camera Roll\\nature.jpg.webp: command not found\n"
     ]
    }
   ],
   "source": [
    "![image.jpg]"
   ]
  },
  {
   "cell_type": "markdown",
   "id": "04fe4188-15de-4b74-a09d-26c2e7da9c68",
   "metadata": {},
   "source": [
    "5. What method would you call to get Image object for a 100×100 image, excluding the lower-left quarter of it?"
   ]
  },
  {
   "cell_type": "markdown",
   "id": "fd18941f-bac3-4472-9322-6eb5c15c7a19",
   "metadata": {},
   "source": [
    "Ans .ImageObject.crop((0, 50, 50, 50))"
   ]
  },
  {
   "cell_type": "markdown",
   "id": "48261755-f4f8-4676-84b2-937911dc9c10",
   "metadata": {},
   "source": [
    "6. After making changes to an Image object, how could you save it as an image file?"
   ]
  },
  {
   "cell_type": "markdown",
   "id": "624fef97-1ad0-4464-990a-b43eb404533e",
   "metadata": {},
   "source": [
    "Ans. By Calling the imageObj.save('new_filename.png') method of the Image object."
   ]
  },
  {
   "cell_type": "markdown",
   "id": "b520566c-a68d-41a3-972e-f79c9d82d2fb",
   "metadata": {},
   "source": [
    "7. What module contains Pillow’s shape-drawing code?"
   ]
  },
  {
   "cell_type": "markdown",
   "id": "fd610218-a06e-4ad0-a8b0-ab626220e0c5",
   "metadata": {},
   "source": [
    "Ans. The ImageDraw module contains code to draw on images"
   ]
  },
  {
   "cell_type": "markdown",
   "id": "dc669334-981e-4703-99e7-274f5d11d71f",
   "metadata": {},
   "source": [
    "8. Image objects do not have drawing methods. What kind of object does? How do you get this kind of object?"
   ]
  },
  {
   "cell_type": "markdown",
   "id": "827abc97-aa33-46f1-b4df-1f6163fca555",
   "metadata": {},
   "source": [
    "Ans .ImageDraw objects have shape-drawing methods such as point(), line(), or rectangle(). They are returned by passing the Image object to the ImageDraw.Draw() function\n"
   ]
  },
  {
   "cell_type": "code",
   "execution_count": null,
   "id": "a98a7fca-be95-4892-83d7-20ed3bf8430e",
   "metadata": {},
   "outputs": [],
   "source": []
  }
 ],
 "metadata": {
  "kernelspec": {
   "display_name": "Python 3 (ipykernel)",
   "language": "python",
   "name": "python3"
  },
  "language_info": {
   "codemirror_mode": {
    "name": "ipython",
    "version": 3
   },
   "file_extension": ".py",
   "mimetype": "text/x-python",
   "name": "python",
   "nbconvert_exporter": "python",
   "pygments_lexer": "ipython3",
   "version": "3.10.6"
  }
 },
 "nbformat": 4,
 "nbformat_minor": 5
}
